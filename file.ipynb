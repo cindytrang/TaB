{
 "cells": [
  {
   "cell_type": "code",
   "execution_count": 57,
   "metadata": {},
   "outputs": [
    {
     "name": "stdout",
     "output_type": "stream",
     "text": [
      "0 1 1 2 3 5 8 13 21 34 "
     ]
    }
   ],
   "source": [
    "def fibonacci():\n",
    "    a, b = 0, 1\n",
    "    while True:\n",
    "        yield a\n",
    "        a, b = b, b +a \n",
    "\n",
    "fib = fibonacci()\n",
    "for _ in range(10):\n",
    "    print(next(fib), end = \" \")"
   ]
  },
  {
   "cell_type": "code",
   "execution_count": 59,
   "metadata": {},
   "outputs": [
    {
     "name": "stdout",
     "output_type": "stream",
     "text": [
      "0 1 1 2 3 5 8 13 21 34 "
     ]
    }
   ],
   "source": [
    "def fibonnaci():\n",
    "    a, b = 0, 1\n",
    "    while True:\n",
    "        yield a\n",
    "        a, b = b, a+b \n",
    "\n",
    "\n",
    "fib = fibonacci()\n",
    "for x in range(10):\n",
    "    print(next(fib), end =\" \")"
   ]
  },
  {
   "cell_type": "code",
   "execution_count": 92,
   "metadata": {},
   "outputs": [
    {
     "name": "stdout",
     "output_type": "stream",
     "text": [
      "\n",
      "Test 3: Mixed arguments\n",
      "Debug: Function 'even_numbers' called with:\n",
      "  Positional arg 0: 15\n",
      "  Keyword arg start: 4\n",
      "  Keyword arg step: 3\n",
      "Debug: Using limit of 15\n",
      "Debug: About to yield 4\n",
      "Got: 4\n",
      "Debug: About to yield 10\n",
      "Got: 10\n"
     ]
    }
   ],
   "source": [
    "def debug_generator(func):\n",
    "    def wrapper(*args, **kwargs):\n",
    "        print(f\"Debug: Function '{func.__name__}' called with:\")\n",
    "        for i, arg in enumerate(args):\n",
    "            print(f\"  Positional arg {i}: {arg}\")\n",
    "        for key, value in kwargs.items():\n",
    "            print(f\"  Keyword arg {key}: {value}\")\n",
    "        \n",
    "        # Correctly handle the 'limit' argument\n",
    "        if args:\n",
    "            limit = args[0]  # 'limit' is the first positional argument\n",
    "        elif 'limit' in kwargs:\n",
    "            limit = kwargs['limit']\n",
    "        else:\n",
    "            limit = 10  # Default value if not provided\n",
    "\n",
    "        print(f\"Debug: Using limit of {limit}\")\n",
    "\n",
    "        gen = func(*args, **kwargs)\n",
    "        for value in gen:\n",
    "            print(f\"Debug: About to yield {value}\")\n",
    "            yield value\n",
    "    return wrapper\n",
    "\n",
    "@debug_generator\n",
    "def even_numbers(limit, start=0, step=2):\n",
    "    for i in range(start, limit, step):\n",
    "        if i % 2 == 0:\n",
    "            yield i\n",
    "\n",
    "# Test with different argument combinations\n",
    "# print(\"Test 1: Positional arguments\")\n",
    "# for num in even_numbers(8, 2):\n",
    "#     print(f\"Got: {num}\")\n",
    "\n",
    "# print(\"\\nTest 2: Keyword arguments\")\n",
    "# for num in even_numbers(limit=10, start=1, step=1):\n",
    "#     print(f\"Got: {num}\")\n",
    "\n",
    "print(\"\\nTest 3: Mixed arguments\")\n",
    "for num in even_numbers(15, start=4, step=3):\n",
    "    print(f\"Got: {num}\")"
   ]
  }
 ],
 "metadata": {
  "kernelspec": {
   "display_name": "myenv",
   "language": "python",
   "name": "python3"
  },
  "language_info": {
   "codemirror_mode": {
    "name": "ipython",
    "version": 3
   },
   "file_extension": ".py",
   "mimetype": "text/x-python",
   "name": "python",
   "nbconvert_exporter": "python",
   "pygments_lexer": "ipython3",
   "version": "3.12.6"
  }
 },
 "nbformat": 4,
 "nbformat_minor": 2
}
